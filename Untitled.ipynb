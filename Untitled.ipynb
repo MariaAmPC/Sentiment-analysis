{
 "cells": [
  {
   "cell_type": "markdown",
   "id": "11eccae5",
   "metadata": {},
   "source": [
    "Import der wichtigen Biblioteken "
   ]
  },
  {
   "cell_type": "code",
   "execution_count": 19,
   "id": "5cb7f2c7",
   "metadata": {},
   "outputs": [
    {
     "ename": "ModuleNotFoundError",
     "evalue": "No module named 'matplotlib'",
     "output_type": "error",
     "traceback": [
      "\u001b[1;31m---------------------------------------------------------------------------\u001b[0m",
      "\u001b[1;31mModuleNotFoundError\u001b[0m                       Traceback (most recent call last)",
      "Cell \u001b[1;32mIn[19], line 4\u001b[0m\n\u001b[0;32m      2\u001b[0m \u001b[38;5;28;01mimport\u001b[39;00m \u001b[38;5;21;01mstreamlit\u001b[39;00m \u001b[38;5;28;01mas\u001b[39;00m \u001b[38;5;21;01mst\u001b[39;00m\n\u001b[0;32m      3\u001b[0m \u001b[38;5;28;01mimport\u001b[39;00m \u001b[38;5;21;01mnumpy\u001b[39;00m \u001b[38;5;28;01mas\u001b[39;00m \u001b[38;5;21;01mnp\u001b[39;00m\n\u001b[1;32m----> 4\u001b[0m \u001b[38;5;28;01mimport\u001b[39;00m \u001b[38;5;21;01mmatplotlib\u001b[39;00m\u001b[38;5;21;01m.\u001b[39;00m\u001b[38;5;21;01mpyplot\u001b[39;00m \u001b[38;5;28;01mas\u001b[39;00m \u001b[38;5;21;01mplt\u001b[39;00m \n\u001b[0;32m      5\u001b[0m \u001b[38;5;28;01mimport\u001b[39;00m \u001b[38;5;21;01mseaborn\u001b[39;00m \u001b[38;5;28;01mas\u001b[39;00m \u001b[38;5;21;01msns\u001b[39;00m\n",
      "\u001b[1;31mModuleNotFoundError\u001b[0m: No module named 'matplotlib'"
     ]
    }
   ],
   "source": [
    "import pandas as pd \n",
    "import streamlit as st\n",
    "import numpy as np\n"
   ]
  },
  {
   "cell_type": "markdown",
   "id": "47c2b100",
   "metadata": {},
   "source": [
    "importing test, training and Validation Dataset"
   ]
  },
  {
   "cell_type": "code",
   "execution_count": 8,
   "id": "adf8887f",
   "metadata": {},
   "outputs": [],
   "source": [
    "url_test =(\"https://raw.githubusercontent.com/MariaAmPC/hate-speach/main/Testing_meme_dataset.csv\")\n",
    "url_train=(\"https://raw.githubusercontent.com/MariaAmPC/hate-speach/main/Training_meme_dataset.csv\")\n",
    "url_validation=(\"https://raw.githubusercontent.com/MariaAmPC/hate-speach/main/Validation_meme_dataset.csv\")\n",
    "\n",
    "df_test= pd.read_csv(url_test,index_col=0)\n",
    "df_train= pd.read_csv(url_train,index_col=0)\n",
    "df_validation= pd.read_csv(url_validation,index_col=0)"
   ]
  },
  {
   "cell_type": "markdown",
   "id": "86fc6962",
   "metadata": {},
   "source": [
    "Eigeschaften den Traindatensatz : (Grösse, Datentypen)"
   ]
  },
  {
   "cell_type": "code",
   "execution_count": 13,
   "id": "7f43ae92",
   "metadata": {},
   "outputs": [
    {
     "name": "stdout",
     "output_type": "stream",
     "text": [
      "(445, 2)\n",
      "sentence    object\n",
      "label       object\n",
      "dtype: object\n"
     ]
    },
    {
     "data": {
      "text/plain": [
       "Index(['sentence', 'label'], dtype='object')"
      ]
     },
     "execution_count": 13,
     "metadata": {},
     "output_type": "execute_result"
    }
   ],
   "source": [
    "print(df_train.shape)\n",
    "print(df_train.dtypes)\n",
    "df_train.columns"
   ]
  }
 ],
 "metadata": {
  "kernelspec": {
   "display_name": "streamlit",
   "language": "python",
   "name": "python3"
  },
  "language_info": {
   "codemirror_mode": {
    "name": "ipython",
    "version": 3
   },
   "file_extension": ".py",
   "mimetype": "text/x-python",
   "name": "python",
   "nbconvert_exporter": "python",
   "pygments_lexer": "ipython3",
   "version": "3.11.9"
  }
 },
 "nbformat": 4,
 "nbformat_minor": 5
}
