{
 "cells": [
  {
   "cell_type": "markdown",
   "id": "11eccae5",
   "metadata": {},
   "source": [
    "Import der wichtigen Biblioteken "
   ]
  },
  {
   "cell_type": "code",
   "execution_count": 4,
   "id": "5cb7f2c7",
   "metadata": {},
   "outputs": [],
   "source": [
    "import pandas as pd \n",
    "import streamlit as st\n",
    "import numpy as np"
   ]
  },
  {
   "cell_type": "markdown",
   "id": "47c2b100",
   "metadata": {},
   "source": [
    "importing test, training and Validation Dataset"
   ]
  },
  {
   "cell_type": "code",
   "execution_count": 8,
   "id": "adf8887f",
   "metadata": {},
   "outputs": [],
   "source": [
    "url_test =(\"https://raw.githubusercontent.com/MariaAmPC/hate-speach/main/Testing_meme_dataset.csv\")\n",
    "url_train=(\"https://raw.githubusercontent.com/MariaAmPC/hate-speach/main/Training_meme_dataset.csv\")\n",
    "url_validation=(\"https://raw.githubusercontent.com/MariaAmPC/hate-speach/main/Validation_meme_dataset.csv\")\n",
    "\n",
    "df_test= pd.read_csv(url_test,index_col=0)\n",
    "df_train= pd.read_csv(url_train,index_col=0)\n",
    "df_validation= pd.read_csv(url_validation,index_col=0)"
   ]
  },
  {
   "cell_type": "code",
   "execution_count": null,
   "id": "7f43ae92",
   "metadata": {},
   "outputs": [],
   "source": [
    "print(\"hello world\")"
   ]
  }
 ],
 "metadata": {
  "kernelspec": {
   "display_name": "streamlit",
   "language": "python",
   "name": "python3"
  },
  "language_info": {
   "codemirror_mode": {
    "name": "ipython",
    "version": 3
   },
   "file_extension": ".py",
   "mimetype": "text/x-python",
   "name": "python",
   "nbconvert_exporter": "python",
   "pygments_lexer": "ipython3",
   "version": "3.11.9"
  }
 },
 "nbformat": 4,
 "nbformat_minor": 5
}
