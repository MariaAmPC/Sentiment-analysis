{
 "cells": [
  {
   "cell_type": "markdown",
   "id": "11eccae5",
   "metadata": {},
   "source": [
    "Import der wichtigen Biblioteken "
   ]
  },
  {
   "cell_type": "code",
   "execution_count": 24,
   "id": "5cb7f2c7",
   "metadata": {},
   "outputs": [],
   "source": [
    "import pandas as pd \n",
    "import streamlit as st\n",
    "import numpy as np\n"
   ]
  },
  {
   "cell_type": "markdown",
   "id": "47c2b100",
   "metadata": {},
   "source": [
    "importing test, training and Validation Dataset"
   ]
  },
  {
   "cell_type": "code",
   "execution_count": 26,
   "id": "adf8887f",
   "metadata": {},
   "outputs": [],
   "source": [
    "url_test =(\"https://raw.githubusercontent.com/MariaAmPC/hate-speach/main/Testing_meme_dataset.csv\")\n",
    "url_train=(\"https://raw.githubusercontent.com/MariaAmPC/hate-speach/main/Training_meme_dataset.csv\")\n",
    "url_validation=(\"https://raw.githubusercontent.com/MariaAmPC/hate-speach/main/Validation_meme_dataset.csv\")\n",
    "\n",
    "df_test= pd.read_csv(url_test,index_col=0)\n",
    "df_train= pd.read_csv(url_train,index_col=0)\n",
    "df_validation= pd.read_csv(url_validation,index_col=0)"
   ]
  },
  {
   "cell_type": "markdown",
   "id": "86fc6962",
   "metadata": {},
   "source": [
    "Eigeschaften den Traindatensatz : (Grösse, Datentypen)"
   ]
  },
  {
   "cell_type": "code",
   "execution_count": 27,
   "id": "7f43ae92",
   "metadata": {},
   "outputs": [
    {
     "name": "stdout",
     "output_type": "stream",
     "text": [
      "(445, 2)\n",
      "sentence    object\n",
      "label       object\n",
      "dtype: object\n"
     ]
    },
    {
     "data": {
      "text/plain": [
       "Index(['sentence', 'label'], dtype='object')"
      ]
     },
     "execution_count": 27,
     "metadata": {},
     "output_type": "execute_result"
    },
    {
     "ename": "",
     "evalue": "",
     "output_type": "error",
     "traceback": [
      "\u001b[1;31mThe Kernel crashed while executing code in the current cell or a previous cell. \n",
      "\u001b[1;31mPlease review the code in the cell(s) to identify a possible cause of the failure. \n",
      "\u001b[1;31mClick <a href='https://aka.ms/vscodeJupyterKernelCrash'>here</a> for more info. \n",
      "\u001b[1;31mView Jupyter <a href='command:jupyter.viewOutput'>log</a> for further details."
     ]
    }
   ],
   "source": [
    "print(df_train.shape)\n",
    "print(df_train.dtypes)\n",
    "df_train.columns"
   ]
  },
  {
   "cell_type": "markdown",
   "id": "34b65e5e",
   "metadata": {},
   "source": [
    "test"
   ]
  }
 ],
 "metadata": {
  "kernelspec": {
   "display_name": "streamlit",
   "language": "python",
   "name": "python3"
  },
  "language_info": {
   "codemirror_mode": {
    "name": "ipython",
    "version": 3
   },
   "file_extension": ".py",
   "mimetype": "text/x-python",
   "name": "python",
   "nbconvert_exporter": "python",
   "pygments_lexer": "ipython3",
   "version": "3.11.9"
  }
 },
 "nbformat": 4,
 "nbformat_minor": 5
}
